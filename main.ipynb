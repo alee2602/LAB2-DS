{
 "cells": [
  {
   "cell_type": "markdown",
   "id": "b7206b44",
   "metadata": {},
   "source": [
    "# **Laboratorio 2**\n",
    "\n",
    "- Derek Arreaga - 22537\n",
    "- Mónica Salvatierra - 22249"
   ]
  },
  {
   "cell_type": "code",
   "execution_count": 13,
   "id": "023aab66",
   "metadata": {},
   "outputs": [],
   "source": [
    "import numpy as np\n",
    "import tensorflow as tf\n",
    "import matplotlib.pyplot as plt"
   ]
  },
  {
   "cell_type": "markdown",
   "id": "740a7331",
   "metadata": {},
   "source": [
    "Descargar dataset de MNIST y generar los conjuntos de entrenamiento y prueba"
   ]
  },
  {
   "cell_type": "code",
   "execution_count": 2,
   "id": "e885f9f6",
   "metadata": {},
   "outputs": [
    {
     "name": "stdout",
     "output_type": "stream",
     "text": [
      "Entrenamiento: (60000, 28, 28) (60000,)\n",
      "Prueba: (10000, 28, 28) (10000,)\n"
     ]
    }
   ],
   "source": [
    "(x_train, y_train), (x_test, y_test) = tf.keras.datasets.mnist.load_data()\n",
    "\n",
    "\n",
    "print(\"Entrenamiento:\", x_train.shape, y_train.shape)\n",
    "print(\"Prueba:\", x_test.shape, y_test.shape)"
   ]
  },
  {
   "cell_type": "markdown",
   "id": "3ef03ed3",
   "metadata": {},
   "source": [
    "Normalizar los valores de píxel a rango [0, 1]"
   ]
  },
  {
   "cell_type": "code",
   "execution_count": null,
   "id": "00c6df63",
   "metadata": {},
   "outputs": [],
   "source": [
    "\n",
    "x_train = x_train / 255.0\n",
    "x_test = x_test / 255.0\n"
   ]
  },
  {
   "cell_type": "markdown",
   "id": "db4721e6",
   "metadata": {},
   "source": [
    "Revisar que el rango de los valores de cada pixel estén normaizados"
   ]
  },
  {
   "cell_type": "code",
   "execution_count": 4,
   "id": "ecd936c5",
   "metadata": {},
   "outputs": [
    {
     "name": "stdout",
     "output_type": "stream",
     "text": [
      "Min pixel value: 0.0\n",
      "Max pixel value: 1.0\n"
     ]
    }
   ],
   "source": [
    "print(\"Min pixel value:\", x_train.min())\n",
    "print(\"Max pixel value:\", x_train.max())\n"
   ]
  },
  {
   "cell_type": "markdown",
   "id": "aa0d9e4e",
   "metadata": {},
   "source": [
    "## **Preprocesamiento de datos**"
   ]
  },
  {
   "cell_type": "markdown",
   "id": "0c858017",
   "metadata": {},
   "source": [
    "Crear un conjunto de validación a partir del conjunto de entrenamiento"
   ]
  },
  {
   "cell_type": "code",
   "execution_count": 5,
   "id": "fa87b4f3",
   "metadata": {},
   "outputs": [
    {
     "name": "stdout",
     "output_type": "stream",
     "text": [
      "x_train: (48000, 28, 28)\n",
      "x_val: (12000, 28, 28)\n",
      "x_test: (10000, 28, 28)\n"
     ]
    }
   ],
   "source": [
    "from sklearn.model_selection import train_test_split\n",
    "\n",
    "# Dividir x_train en 80% entrenamiento y 20% validación\n",
    "x_train_new, x_val, y_train_new, y_val = train_test_split(\n",
    "    x_train, y_train, test_size=0.2, random_state=42)\n",
    "\n",
    "print(\"x_train:\", x_train_new.shape)\n",
    "print(\"x_val:\", x_val.shape)\n",
    "print(\"x_test:\", x_test.shape)\n"
   ]
  },
  {
   "cell_type": "code",
   "execution_count": 22,
   "id": "8bfd6da3",
   "metadata": {},
   "outputs": [
    {
     "data": {
      "image/png": "[encoded data removed]",
      "text/plain": [
       "<Figure size 432x288 with 1 Axes>"
      ]
     },
     "metadata": {
      "needs_background": "light"
     },
     "output_type": "display_data"
    }
   ],
   "source": [
    "plt.imshow(x_train_new[0], cmap='gray')\n",
    "plt.title(f\"Etiqueta: {y_train_new[0]}\")\n",
    "plt.axis('off')\n",
    "plt.show()"
   ]
  },
  {
   "cell_type": "markdown",
   "id": "08aad6ed",
   "metadata": {},
   "source": [
    "## **1. Modificación del Ancho de la Red**"
   ]
  },
  {
   "cell_type": "markdown",
   "id": "08f8b288",
   "metadata": {},
   "source": [
    "Entrenar modelo base de red neuronal (una capa oculta con 128 neuronas)"
   ]
  },
  {
   "cell_type": "code",
   "execution_count": 18,
   "id": "5e6a43b7",
   "metadata": {},
   "outputs": [
    {
     "name": "stdout",
     "output_type": "stream",
     "text": [
      "Epoch 1/10\n",
      "\u001b[1m375/375\u001b[0m \u001b[32m━━━━━━━━━━━━━━━━━━━━\u001b[0m\u001b[37m\u001b[0m \u001b[1m2s\u001b[0m 4ms/step - accuracy: 0.8078 - loss: 0.6886 - val_accuracy: 0.9359 - val_loss: 0.2311\n",
      "Epoch 2/10\n",
      "\u001b[1m375/375\u001b[0m \u001b[32m━━━━━━━━━━━━━━━━━━━━\u001b[0m\u001b[37m\u001b[0m \u001b[1m1s\u001b[0m 3ms/step - accuracy: 0.9432 - loss: 0.2002 - val_accuracy: 0.9541 - val_loss: 0.1616\n",
      "Epoch 3/10\n",
      "\u001b[1m375/375\u001b[0m \u001b[32m━━━━━━━━━━━━━━━━━━━━\u001b[0m\u001b[37m\u001b[0m \u001b[1m1s\u001b[0m 3ms/step - accuracy: 0.9623 - loss: 0.1349 - val_accuracy: 0.9602 - val_loss: 0.1347\n",
      "Epoch 4/10\n",
      "\u001b[1m375/375\u001b[0m \u001b[32m━━━━━━━━━━━━━━━━━━━━\u001b[0m\u001b[37m\u001b[0m \u001b[1m1s\u001b[0m 3ms/step - accuracy: 0.9702 - loss: 0.1084 - val_accuracy: 0.9598 - val_loss: 0.1289\n",
      "Epoch 5/10\n",
      "\u001b[1m375/375\u001b[0m \u001b[32m━━━━━━━━━━━━━━━━━━━━\u001b[0m\u001b[37m\u001b[0m \u001b[1m1s\u001b[0m 2ms/step - accuracy: 0.9746 - loss: 0.0909 - val_accuracy: 0.9690 - val_loss: 0.1054\n",
      "Epoch 6/10\n",
      "\u001b[1m375/375\u001b[0m \u001b[32m━━━━━━━━━━━━━━━━━━━━\u001b[0m\u001b[37m\u001b[0m \u001b[1m1s\u001b[0m 2ms/step - accuracy: 0.9792 - loss: 0.0740 - val_accuracy: 0.9715 - val_loss: 0.0960\n",
      "Epoch 7/10\n",
      "\u001b[1m375/375\u001b[0m \u001b[32m━━━━━━━━━━━━━━━━━━━━\u001b[0m\u001b[37m\u001b[0m \u001b[1m1s\u001b[0m 2ms/step - accuracy: 0.9838 - loss: 0.0610 - val_accuracy: 0.9718 - val_loss: 0.0914\n",
      "Epoch 8/10\n",
      "\u001b[1m375/375\u001b[0m \u001b[32m━━━━━━━━━━━━━━━━━━━━\u001b[0m\u001b[37m\u001b[0m \u001b[1m1s\u001b[0m 2ms/step - accuracy: 0.9868 - loss: 0.0507 - val_accuracy: 0.9725 - val_loss: 0.0887\n",
      "Epoch 9/10\n",
      "\u001b[1m375/375\u001b[0m \u001b[32m━━━━━━━━━━━━━━━━━━━━\u001b[0m\u001b[37m\u001b[0m \u001b[1m1s\u001b[0m 2ms/step - accuracy: 0.9883 - loss: 0.0443 - val_accuracy: 0.9741 - val_loss: 0.0850\n",
      "Epoch 10/10\n",
      "\u001b[1m375/375\u001b[0m \u001b[32m━━━━━━━━━━━━━━━━━━━━\u001b[0m\u001b[37m\u001b[0m \u001b[1m1s\u001b[0m 2ms/step - accuracy: 0.9915 - loss: 0.0355 - val_accuracy: 0.9734 - val_loss: 0.0858\n",
      "Tiempo total de entrenamiento: 10.5 segundos\n"
     ]
    },
    {
     "data": {
      "image/png": "[encoded data removed]",
      "text/plain": [
       "<Figure size 432x288 with 1 Axes>"
      ]
     },
     "metadata": {
      "needs_background": "light"
     },
     "output_type": "display_data"
    },
    {
     "data": {
      "image/png": "[encoded data removed]",
      "text/plain": [
       "<Figure size 432x288 with 1 Axes>"
      ]
     },
     "metadata": {
      "needs_background": "light"
     },
     "output_type": "display_data"
    }
   ],
   "source": [
    "from tensorflow import keras\n",
    "from tensorflow.keras import layers\n",
    "import time\n",
    "\n",
    "model = keras.Sequential([\n",
    "    layers.Flatten(input_shape=(28, 28)),\n",
    "    layers.Dense(128, activation='relu'),\n",
    "    layers.Dense(10, activation='softmax')\n",
    "])\n",
    "\n",
    "model.compile(optimizer='adam',\n",
    "            loss='sparse_categorical_crossentropy',\n",
    "            metrics=['accuracy'])\n",
    "\n",
    "start = time.time()\n",
    "\n",
    "history = model.fit(\n",
    "    x_train_new, y_train_new,\n",
    "    validation_data=(x_val, y_val),\n",
    "    epochs=10,\n",
    "    batch_size = 128\n",
    ")\n",
    "\n",
    "end = time.time()\n",
    "print(\"Tiempo total de entrenamiento:\", round(end - start, 2), \"segundos\")\n",
    "\n",
    "plt.plot(history.history['accuracy'], label='Precisión entrenamiento')\n",
    "plt.plot(history.history['val_accuracy'], label='Precisión validación')\n",
    "plt.xlabel('Épocas')\n",
    "plt.ylabel('Precisión')\n",
    "plt.title('Precisión por época (modelo con 128 neuronas)')\n",
    "plt.legend()\n",
    "plt.grid(True)\n",
    "plt.show()\n",
    "\n",
    "# Gráfico de pérdida \n",
    "plt.plot(history.history['loss'], label='Pérdida entrenamiento')\n",
    "plt.plot(history.history['val_loss'], label='Pérdida validación')\n",
    "plt.xlabel('Épocas')\n",
    "plt.ylabel('Pérdida')\n",
    "plt.title('Pérdida por época (modelo con 128 neuronas)')\n",
    "plt.legend()\n",
    "plt.grid(True)\n",
    "plt.show()"
   ]
  },
  {
   "cell_type": "code",
   "execution_count": 19,
   "id": "a450c193",
   "metadata": {},
   "outputs": [
    {
     "name": "stdout",
     "output_type": "stream",
     "text": [
      "Precisión de validación final: 97.34 %\n"
     ]
    }
   ],
   "source": [
    "val_acc = history.history['val_accuracy'][-1]\n",
    "print(\"Precisión de validación final:\", round(val_acc * 100, 2), \"%\")\n"
   ]
  },
  {
   "cell_type": "markdown",
   "id": "3d3ac68f",
   "metadata": {},
   "source": [
    "Modifique el tamaño de la capa escondida a 200 neuronas"
   ]
  },
  {
   "cell_type": "code",
   "execution_count": 20,
   "id": "2f09a9f6",
   "metadata": {},
   "outputs": [
    {
     "name": "stdout",
     "output_type": "stream",
     "text": [
      "Epoch 1/10\n",
      "\u001b[1m375/375\u001b[0m \u001b[32m━━━━━━━━━━━━━━━━━━━━\u001b[0m\u001b[37m\u001b[0m \u001b[1m2s\u001b[0m 5ms/step - accuracy: 0.8295 - loss: 0.6156 - val_accuracy: 0.9440 - val_loss: 0.2016\n",
      "Epoch 2/10\n",
      "\u001b[1m375/375\u001b[0m \u001b[32m━━━━━━━━━━━━━━━━━━━━\u001b[0m\u001b[37m\u001b[0m \u001b[1m1s\u001b[0m 3ms/step - accuracy: 0.9487 - loss: 0.1792 - val_accuracy: 0.9582 - val_loss: 0.1462\n",
      "Epoch 3/10\n",
      "\u001b[1m375/375\u001b[0m \u001b[32m━━━━━━━━━━━━━━━━━━━━\u001b[0m\u001b[37m\u001b[0m \u001b[1m1s\u001b[0m 2ms/step - accuracy: 0.9665 - loss: 0.1179 - val_accuracy: 0.9652 - val_loss: 0.1161\n",
      "Epoch 4/10\n",
      "\u001b[1m375/375\u001b[0m \u001b[32m━━━━━━━━━━━━━━━━━━━━\u001b[0m\u001b[37m\u001b[0m \u001b[1m1s\u001b[0m 3ms/step - accuracy: 0.9748 - loss: 0.0891 - val_accuracy: 0.9705 - val_loss: 0.1046\n",
      "Epoch 5/10\n",
      "\u001b[1m375/375\u001b[0m \u001b[32m━━━━━━━━━━━━━━━━━━━━\u001b[0m\u001b[37m\u001b[0m \u001b[1m1s\u001b[0m 3ms/step - accuracy: 0.9803 - loss: 0.0682 - val_accuracy: 0.9720 - val_loss: 0.0919\n",
      "Epoch 6/10\n",
      "\u001b[1m375/375\u001b[0m \u001b[32m━━━━━━━━━━━━━━━━━━━━\u001b[0m\u001b[37m\u001b[0m \u001b[1m1s\u001b[0m 3ms/step - accuracy: 0.9849 - loss: 0.0542 - val_accuracy: 0.9729 - val_loss: 0.0893\n",
      "Epoch 7/10\n",
      "\u001b[1m375/375\u001b[0m \u001b[32m━━━━━━━━━━━━━━━━━━━━\u001b[0m\u001b[37m\u001b[0m \u001b[1m1s\u001b[0m 2ms/step - accuracy: 0.9877 - loss: 0.0443 - val_accuracy: 0.9753 - val_loss: 0.0820\n",
      "Epoch 8/10\n",
      "\u001b[1m375/375\u001b[0m \u001b[32m━━━━━━━━━━━━━━━━━━━━\u001b[0m\u001b[37m\u001b[0m \u001b[1m1s\u001b[0m 2ms/step - accuracy: 0.9899 - loss: 0.0368 - val_accuracy: 0.9747 - val_loss: 0.0840\n",
      "Epoch 9/10\n",
      "\u001b[1m375/375\u001b[0m \u001b[32m━━━━━━━━━━━━━━━━━━━━\u001b[0m\u001b[37m\u001b[0m \u001b[1m1s\u001b[0m 3ms/step - accuracy: 0.9932 - loss: 0.0288 - val_accuracy: 0.9764 - val_loss: 0.0825\n",
      "Epoch 10/10\n",
      "\u001b[1m375/375\u001b[0m \u001b[32m━━━━━━━━━━━━━━━━━━━━\u001b[0m\u001b[37m\u001b[0m \u001b[1m1s\u001b[0m 2ms/step - accuracy: 0.9941 - loss: 0.0241 - val_accuracy: 0.9763 - val_loss: 0.0808\n",
      "\n",
      " Precisión de validación final: 97.63%\n",
      "Tiempo total de entrenamiento: 11.44 segundos\n"
     ]
    },
    {
     "data": {
      "image/png": "[encoded data removed]",
      "text/plain": [
       "<Figure size 432x288 with 1 Axes>"
      ]
     },
     "metadata": {
      "needs_background": "light"
     },
     "output_type": "display_data"
    },
    {
     "data": {
      "image/png": "[encoded data removed]",
      "text/plain": [
       "<Figure size 432x288 with 1 Axes>"
      ]
     },
     "metadata": {
      "needs_background": "light"
     },
     "output_type": "display_data"
    }
   ],
   "source": [
    "model = keras.Sequential([\n",
    "    layers.Flatten(input_shape=(28, 28)),\n",
    "    layers.Dense(200, activation='relu'),  \n",
    "    layers.Dense(10, activation='softmax')\n",
    "])\n",
    "\n",
    "model.compile(optimizer='adam',\n",
    "            loss='sparse_categorical_crossentropy',\n",
    "            metrics=['accuracy'])\n",
    "\n",
    "start = time.time()\n",
    "\n",
    "history = model.fit(\n",
    "    x_train_new, y_train_new,\n",
    "    validation_data=(x_val, y_val),\n",
    "    epochs=10,\n",
    "    batch_size = 128\n",
    ")\n",
    "\n",
    "end = time.time()\n",
    "tiempo = round(end - start, 2)\n",
    "\n",
    "# Obtener precisión final en validación\n",
    "val_acc = round(history.history['val_accuracy'][-1] * 100, 2)\n",
    "\n",
    "print(f\"\\n Precisión de validación final: {val_acc}%\")\n",
    "print(f\"Tiempo total de entrenamiento: {tiempo} segundos\")\n",
    "\n",
    "plt.plot(history.history['accuracy'], label='Precisión entrenamiento')\n",
    "plt.plot(history.history['val_accuracy'], label='Precisión validación')\n",
    "plt.xlabel('Épocas')\n",
    "plt.ylabel('Precisión')\n",
    "plt.title('Precisión por época (modelo con 200 neuronas)')\n",
    "plt.legend()\n",
    "plt.grid(True)\n",
    "plt.show()\n",
    "\n",
    "# Gráfico de pérdida \n",
    "plt.plot(history.history['loss'], label='Pérdida entrenamiento')\n",
    "plt.plot(history.history['val_loss'], label='Pérdida validación')\n",
    "plt.xlabel('Épocas')\n",
    "plt.ylabel('Pérdida')\n",
    "plt.title('Pérdida por época (modelo con 200 neuronas)')\n",
    "plt.legend()\n",
    "plt.grid(True)\n",
    "plt.show()"
   ]
  },
  {
   "cell_type": "markdown",
   "id": "95f0c54a",
   "metadata": {},
   "source": [
    "**¿Cómo cambia la precisión de validación del modelo?**\n",
    "\n",
    "- Entrenando el modelo con una capa oculta de 200 neuronas, 5 épocas, y un batch size de 128, el rendimiento fue ligeramente mayor al modelo base que ocupaba 128 neuronas en su capa oculta. Para el modelo base, se obtuvo un accuracy del 97.34%, mientras que en el nuevo modelo, el accuracy fue de 97.63%.\n",
    "\n",
    "**¿Cuánto tiempo tarda el algoritmo en entrenar?**\n",
    "\n",
    "- El modelo base tardó 10.5 segundos en entrenarse, mientras el nuevo modelo con más neuronas tardó 11.44 segundos. Hubo una diferencia de 0.94 segundos. "
   ]
  },
  {
   "cell_type": "markdown",
   "id": "100b0644",
   "metadata": {},
   "source": [
    "Experimente con diferentes tamaños de capa escondida (50, 100, 300, 500) y determine\n",
    "cuál ofrece el mejor rendimiento."
   ]
  },
  {
   "cell_type": "code",
   "execution_count": 21,
   "id": "83b98ef2",
   "metadata": {},
   "outputs": [
    {
     "name": "stdout",
     "output_type": "stream",
     "text": [
      "\n",
      "Entrenando modelo con 50 neuronas en la capa oculta...\n",
      "Epoch 1/10\n",
      "\u001b[1m375/375\u001b[0m \u001b[32m━━━━━━━━━━━━━━━━━━━━\u001b[0m\u001b[37m\u001b[0m \u001b[1m2s\u001b[0m 4ms/step - accuracy: 0.7745 - loss: 0.8205 - val_accuracy: 0.9241 - val_loss: 0.2729\n",
      "Epoch 2/10\n",
      "\u001b[1m375/375\u001b[0m \u001b[32m━━━━━━━━━━━━━━━━━━━━\u001b[0m\u001b[37m\u001b[0m \u001b[1m1s\u001b[0m 2ms/step - accuracy: 0.9272 - loss: 0.2580 - val_accuracy: 0.9375 - val_loss: 0.2187\n",
      "Epoch 3/10\n",
      "\u001b[1m375/375\u001b[0m \u001b[32m━━━━━━━━━━━━━━━━━━━━\u001b[0m\u001b[37m\u001b[0m \u001b[1m1s\u001b[0m 2ms/step - accuracy: 0.9428 - loss: 0.2006 - val_accuracy: 0.9473 - val_loss: 0.1842\n",
      "Epoch 4/10\n",
      "\u001b[1m375/375\u001b[0m \u001b[32m━━━━━━━━━━━━━━━━━━━━\u001b[0m\u001b[37m\u001b[0m \u001b[1m1s\u001b[0m 2ms/step - accuracy: 0.9520 - loss: 0.1664 - val_accuracy: 0.9528 - val_loss: 0.1646\n",
      "Epoch 5/10\n",
      "\u001b[1m375/375\u001b[0m \u001b[32m━━━━━━━━━━━━━━━━━━━━\u001b[0m\u001b[37m\u001b[0m \u001b[1m1s\u001b[0m 2ms/step - accuracy: 0.9601 - loss: 0.1455 - val_accuracy: 0.9557 - val_loss: 0.1494\n",
      "Epoch 6/10\n",
      "\u001b[1m375/375\u001b[0m \u001b[32m━━━━━━━━━━━━━━━━━━━━\u001b[0m\u001b[37m\u001b[0m \u001b[1m1s\u001b[0m 3ms/step - accuracy: 0.9655 - loss: 0.1236 - val_accuracy: 0.9596 - val_loss: 0.1340\n",
      "Epoch 7/10\n",
      "\u001b[1m375/375\u001b[0m \u001b[32m━━━━━━━━━━━━━━━━━━━━\u001b[0m\u001b[37m\u001b[0m \u001b[1m1s\u001b[0m 2ms/step - accuracy: 0.9706 - loss: 0.1050 - val_accuracy: 0.9634 - val_loss: 0.1275\n",
      "Epoch 8/10\n",
      "\u001b[1m375/375\u001b[0m \u001b[32m━━━━━━━━━━━━━━━━━━━━\u001b[0m\u001b[37m\u001b[0m \u001b[1m1s\u001b[0m 2ms/step - accuracy: 0.9739 - loss: 0.0944 - val_accuracy: 0.9635 - val_loss: 0.1202\n",
      "Epoch 9/10\n",
      "\u001b[1m375/375\u001b[0m \u001b[32m━━━━━━━━━━━━━━━━━━━━\u001b[0m\u001b[37m\u001b[0m \u001b[1m1s\u001b[0m 2ms/step - accuracy: 0.9760 - loss: 0.0864 - val_accuracy: 0.9649 - val_loss: 0.1145\n",
      "Epoch 10/10\n",
      "\u001b[1m375/375\u001b[0m \u001b[32m━━━━━━━━━━━━━━━━━━━━\u001b[0m\u001b[37m\u001b[0m \u001b[1m1s\u001b[0m 2ms/step - accuracy: 0.9784 - loss: 0.0735 - val_accuracy: 0.9678 - val_loss: 0.1103\n",
      "→ Precisión de validación: 96.78% | Tiempo: 9.99 segundos\n",
      "\n",
      "Entrenando modelo con 100 neuronas en la capa oculta...\n",
      "Epoch 1/10\n",
      "\u001b[1m375/375\u001b[0m \u001b[32m━━━━━━━━━━━━━━━━━━━━\u001b[0m\u001b[37m\u001b[0m \u001b[1m2s\u001b[0m 4ms/step - accuracy: 0.7986 - loss: 0.7284 - val_accuracy: 0.9352 - val_loss: 0.2341\n",
      "Epoch 2/10\n",
      "\u001b[1m375/375\u001b[0m \u001b[32m━━━━━━━━━━━━━━━━━━━━\u001b[0m\u001b[37m\u001b[0m \u001b[1m1s\u001b[0m 3ms/step - accuracy: 0.9387 - loss: 0.2147 - val_accuracy: 0.9500 - val_loss: 0.1722\n",
      "Epoch 3/10\n",
      "\u001b[1m375/375\u001b[0m \u001b[32m━━━━━━━━━━━━━━━━━━━━\u001b[0m\u001b[37m\u001b[0m \u001b[1m1s\u001b[0m 3ms/step - accuracy: 0.9561 - loss: 0.1513 - val_accuracy: 0.9580 - val_loss: 0.1442\n",
      "Epoch 4/10\n",
      "\u001b[1m375/375\u001b[0m \u001b[32m━━━━━━━━━━━━━━━━━━━━\u001b[0m\u001b[37m\u001b[0m \u001b[1m1s\u001b[0m 2ms/step - accuracy: 0.9682 - loss: 0.1155 - val_accuracy: 0.9650 - val_loss: 0.1227\n",
      "Epoch 5/10\n",
      "\u001b[1m375/375\u001b[0m \u001b[32m━━━━━━━━━━━━━━━━━━━━\u001b[0m\u001b[37m\u001b[0m \u001b[1m1s\u001b[0m 2ms/step - accuracy: 0.9728 - loss: 0.0953 - val_accuracy: 0.9686 - val_loss: 0.1103\n",
      "Epoch 6/10\n",
      "\u001b[1m375/375\u001b[0m \u001b[32m━━━━━━━━━━━━━━━━━━━━\u001b[0m\u001b[37m\u001b[0m \u001b[1m1s\u001b[0m 2ms/step - accuracy: 0.9792 - loss: 0.0772 - val_accuracy: 0.9682 - val_loss: 0.1048\n",
      "Epoch 7/10\n",
      "\u001b[1m375/375\u001b[0m \u001b[32m━━━━━━━━━━━━━━━━━━━━\u001b[0m\u001b[37m\u001b[0m \u001b[1m1s\u001b[0m 2ms/step - accuracy: 0.9800 - loss: 0.0692 - val_accuracy: 0.9700 - val_loss: 0.1006\n",
      "Epoch 8/10\n",
      "\u001b[1m375/375\u001b[0m \u001b[32m━━━━━━━━━━━━━━━━━━━━\u001b[0m\u001b[37m\u001b[0m \u001b[1m1s\u001b[0m 2ms/step - accuracy: 0.9838 - loss: 0.0576 - val_accuracy: 0.9716 - val_loss: 0.0933\n",
      "Epoch 9/10\n",
      "\u001b[1m375/375\u001b[0m \u001b[32m━━━━━━━━━━━━━━━━━━━━\u001b[0m\u001b[37m\u001b[0m \u001b[1m1s\u001b[0m 2ms/step - accuracy: 0.9870 - loss: 0.0489 - val_accuracy: 0.9730 - val_loss: 0.0898\n",
      "Epoch 10/10\n",
      "\u001b[1m375/375\u001b[0m \u001b[32m━━━━━━━━━━━━━━━━━━━━\u001b[0m\u001b[37m\u001b[0m \u001b[1m1s\u001b[0m 2ms/step - accuracy: 0.9894 - loss: 0.0419 - val_accuracy: 0.9722 - val_loss: 0.0955\n",
      "→ Precisión de validación: 97.22% | Tiempo: 10.49 segundos\n",
      "\n",
      "Entrenando modelo con 300 neuronas en la capa oculta...\n",
      "Epoch 1/10\n",
      "\u001b[1m375/375\u001b[0m \u001b[32m━━━━━━━━━━━━━━━━━━━━\u001b[0m\u001b[37m\u001b[0m \u001b[1m2s\u001b[0m 3ms/step - accuracy: 0.8455 - loss: 0.5580 - val_accuracy: 0.9499 - val_loss: 0.1791\n",
      "Epoch 2/10\n",
      "\u001b[1m375/375\u001b[0m \u001b[32m━━━━━━━━━━━━━━━━━━━━\u001b[0m\u001b[37m\u001b[0m \u001b[1m1s\u001b[0m 3ms/step - accuracy: 0.9574 - loss: 0.1507 - val_accuracy: 0.9631 - val_loss: 0.1249\n",
      "Epoch 3/10\n",
      "\u001b[1m375/375\u001b[0m \u001b[32m━━━━━━━━━━━━━━━━━━━━\u001b[0m\u001b[37m\u001b[0m \u001b[1m1s\u001b[0m 3ms/step - accuracy: 0.9718 - loss: 0.1015 - val_accuracy: 0.9694 - val_loss: 0.1040\n",
      "Epoch 4/10\n",
      "\u001b[1m375/375\u001b[0m \u001b[32m━━━━━━━━━━━━━━━━━━━━\u001b[0m\u001b[37m\u001b[0m \u001b[1m1s\u001b[0m 3ms/step - accuracy: 0.9789 - loss: 0.0722 - val_accuracy: 0.9699 - val_loss: 0.0947\n",
      "Epoch 5/10\n",
      "\u001b[1m375/375\u001b[0m \u001b[32m━━━━━━━━━━━━━━━━━━━━\u001b[0m\u001b[37m\u001b[0m \u001b[1m1s\u001b[0m 3ms/step - accuracy: 0.9846 - loss: 0.0546 - val_accuracy: 0.9753 - val_loss: 0.0826\n",
      "Epoch 6/10\n",
      "\u001b[1m375/375\u001b[0m \u001b[32m━━━━━━━━━━━━━━━━━━━━\u001b[0m\u001b[37m\u001b[0m \u001b[1m1s\u001b[0m 3ms/step - accuracy: 0.9894 - loss: 0.0417 - val_accuracy: 0.9744 - val_loss: 0.0832\n",
      "Epoch 7/10\n",
      "\u001b[1m375/375\u001b[0m \u001b[32m━━━━━━━━━━━━━━━━━━━━\u001b[0m\u001b[37m\u001b[0m \u001b[1m1s\u001b[0m 3ms/step - accuracy: 0.9909 - loss: 0.0337 - val_accuracy: 0.9777 - val_loss: 0.0736\n",
      "Epoch 8/10\n",
      "\u001b[1m375/375\u001b[0m \u001b[32m━━━━━━━━━━━━━━━━━━━━\u001b[0m\u001b[37m\u001b[0m \u001b[1m1s\u001b[0m 4ms/step - accuracy: 0.9937 - loss: 0.0255 - val_accuracy: 0.9789 - val_loss: 0.0738\n",
      "Epoch 9/10\n",
      "\u001b[1m375/375\u001b[0m \u001b[32m━━━━━━━━━━━━━━━━━━━━\u001b[0m\u001b[37m\u001b[0m \u001b[1m2s\u001b[0m 4ms/step - accuracy: 0.9952 - loss: 0.0201 - val_accuracy: 0.9788 - val_loss: 0.0710\n",
      "Epoch 10/10\n",
      "\u001b[1m375/375\u001b[0m \u001b[32m━━━━━━━━━━━━━━━━━━━━\u001b[0m\u001b[37m\u001b[0m \u001b[1m1s\u001b[0m 3ms/step - accuracy: 0.9968 - loss: 0.0153 - val_accuracy: 0.9779 - val_loss: 0.0797\n",
      "→ Precisión de validación: 97.79% | Tiempo: 12.93 segundos\n",
      "\n",
      "Entrenando modelo con 500 neuronas en la capa oculta...\n",
      "Epoch 1/10\n",
      "\u001b[1m375/375\u001b[0m \u001b[32m━━━━━━━━━━━━━━━━━━━━\u001b[0m\u001b[37m\u001b[0m \u001b[1m2s\u001b[0m 5ms/step - accuracy: 0.8590 - loss: 0.5044 - val_accuracy: 0.9529 - val_loss: 0.1619\n",
      "Epoch 2/10\n",
      "\u001b[1m375/375\u001b[0m \u001b[32m━━━━━━━━━━━━━━━━━━━━\u001b[0m\u001b[37m\u001b[0m \u001b[1m2s\u001b[0m 6ms/step - accuracy: 0.9622 - loss: 0.1340 - val_accuracy: 0.9701 - val_loss: 0.1085\n",
      "Epoch 3/10\n",
      "\u001b[1m375/375\u001b[0m \u001b[32m━━━━━━━━━━━━━━━━━━━━\u001b[0m\u001b[37m\u001b[0m \u001b[1m3s\u001b[0m 7ms/step - accuracy: 0.9768 - loss: 0.0830 - val_accuracy: 0.9732 - val_loss: 0.0923\n",
      "Epoch 4/10\n",
      "\u001b[1m375/375\u001b[0m \u001b[32m━━━━━━━━━━━━━━━━━━━━\u001b[0m\u001b[37m\u001b[0m \u001b[1m3s\u001b[0m 7ms/step - accuracy: 0.9841 - loss: 0.0554 - val_accuracy: 0.9758 - val_loss: 0.0832\n",
      "Epoch 5/10\n",
      "\u001b[1m375/375\u001b[0m \u001b[32m━━━━━━━━━━━━━━━━━━━━\u001b[0m\u001b[37m\u001b[0m \u001b[1m2s\u001b[0m 5ms/step - accuracy: 0.9887 - loss: 0.0405 - val_accuracy: 0.9758 - val_loss: 0.0809\n",
      "Epoch 6/10\n",
      "\u001b[1m375/375\u001b[0m \u001b[32m━━━━━━━━━━━━━━━━━━━━\u001b[0m\u001b[37m\u001b[0m \u001b[1m2s\u001b[0m 5ms/step - accuracy: 0.9928 - loss: 0.0289 - val_accuracy: 0.9780 - val_loss: 0.0713\n",
      "Epoch 7/10\n",
      "\u001b[1m375/375\u001b[0m \u001b[32m━━━━━━━━━━━━━━━━━━━━\u001b[0m\u001b[37m\u001b[0m \u001b[1m2s\u001b[0m 4ms/step - accuracy: 0.9936 - loss: 0.0241 - val_accuracy: 0.9783 - val_loss: 0.0720\n",
      "Epoch 8/10\n",
      "\u001b[1m375/375\u001b[0m \u001b[32m━━━━━━━━━━━━━━━━━━━━\u001b[0m\u001b[37m\u001b[0m \u001b[1m2s\u001b[0m 4ms/step - accuracy: 0.9966 - loss: 0.0161 - val_accuracy: 0.9792 - val_loss: 0.0702\n",
      "Epoch 9/10\n",
      "\u001b[1m375/375\u001b[0m \u001b[32m━━━━━━━━━━━━━━━━━━━━\u001b[0m\u001b[37m\u001b[0m \u001b[1m2s\u001b[0m 5ms/step - accuracy: 0.9977 - loss: 0.0118 - val_accuracy: 0.9799 - val_loss: 0.0696\n",
      "Epoch 10/10\n",
      "\u001b[1m375/375\u001b[0m \u001b[32m━━━━━━━━━━━━━━━━━━━━\u001b[0m\u001b[37m\u001b[0m \u001b[1m2s\u001b[0m 5ms/step - accuracy: 0.9985 - loss: 0.0087 - val_accuracy: 0.9772 - val_loss: 0.0782\n",
      "→ Precisión de validación: 97.72% | Tiempo: 20.69 segundos\n"
     ]
    }
   ],
   "source": [
    "\n",
    "neuronas_ocultas = [50, 100,300, 500]\n",
    "\n",
    "resultados = []\n",
    "\n",
    "for n in neuronas_ocultas:\n",
    "    print(f\"\\nEntrenando modelo con {n} neuronas en la capa oculta...\")\n",
    "\n",
    "    # Definir modelo\n",
    "    model = keras.Sequential([\n",
    "        layers.Flatten(input_shape=(28, 28)),\n",
    "        layers.Dense(n, activation='relu'),\n",
    "        layers.Dense(10, activation='softmax')\n",
    "    ])\n",
    "\n",
    "    # Compilar\n",
    "    model.compile(optimizer='adam',\n",
    "                loss='sparse_categorical_crossentropy',\n",
    "                metrics=['accuracy'])\n",
    "\n",
    "    start_time = time.time()\n",
    "\n",
    "    history = model.fit(\n",
    "        x_train_new, y_train_new,\n",
    "        validation_data=(x_val, y_val),\n",
    "        epochs=10,\n",
    "        batch_size = 128,\n",
    "        verbose=1\n",
    "    )\n",
    "\n",
    "    end_time = time.time()\n",
    "    tiempo = round(end_time - start_time, 2)\n",
    "    val_acc = round(history.history['val_accuracy'][-1] * 100, 2)\n",
    "\n",
    "    resultados.append((n, val_acc, tiempo))\n",
    "    print(f\"→ Precisión de validación: {val_acc}% | Tiempo: {tiempo} segundos\")"
   ]
  },
  {
   "cell_type": "markdown",
   "id": "2af080a5",
   "metadata": {},
   "source": [
    "La configuración que tuvo el mejor rendimiento fue el que contiene 300 neuronas en la capa oculta con un rendimiento de 97.79% y un tiempo de ejecución de 12.93 segundos."
   ]
  },
  {
   "cell_type": "markdown",
   "id": "226c8974",
   "metadata": {},
   "source": [
    "## **2. Modificación de la Profundidad de la Red**"
   ]
  },
  {
   "cell_type": "markdown",
   "id": "dfba12a6",
   "metadata": {},
   "source": [
    "Agregue una capa escondida adicional al modelo"
   ]
  },
  {
   "cell_type": "code",
   "execution_count": 29,
   "id": "61829afe",
   "metadata": {},
   "outputs": [
    {
     "name": "stdout",
     "output_type": "stream",
     "text": [
      "Epoch 1/10\n",
      "\u001b[1m375/375\u001b[0m \u001b[32m━━━━━━━━━━━━━━━━━━━━\u001b[0m\u001b[37m\u001b[0m \u001b[1m2s\u001b[0m 4ms/step - accuracy: 0.8172 - loss: 0.6691 - val_accuracy: 0.9465 - val_loss: 0.1896\n",
      "Epoch 2/10\n",
      "\u001b[1m375/375\u001b[0m \u001b[32m━━━━━━━━━━━━━━━━━━━━\u001b[0m\u001b[37m\u001b[0m \u001b[1m1s\u001b[0m 2ms/step - accuracy: 0.9518 - loss: 0.1687 - val_accuracy: 0.9599 - val_loss: 0.1382\n",
      "Epoch 3/10\n",
      "\u001b[1m375/375\u001b[0m \u001b[32m━━━━━━━━━━━━━━━━━━━━\u001b[0m\u001b[37m\u001b[0m \u001b[1m1s\u001b[0m 3ms/step - accuracy: 0.9665 - loss: 0.1109 - val_accuracy: 0.9660 - val_loss: 0.1168\n",
      "Epoch 4/10\n",
      "\u001b[1m375/375\u001b[0m \u001b[32m━━━━━━━━━━━━━━━━━━━━\u001b[0m\u001b[37m\u001b[0m \u001b[1m1s\u001b[0m 2ms/step - accuracy: 0.9761 - loss: 0.0837 - val_accuracy: 0.9682 - val_loss: 0.1059\n",
      "Epoch 5/10\n",
      "\u001b[1m375/375\u001b[0m \u001b[32m━━━━━━━━━━━━━━━━━━━━\u001b[0m\u001b[37m\u001b[0m \u001b[1m1s\u001b[0m 2ms/step - accuracy: 0.9807 - loss: 0.0646 - val_accuracy: 0.9715 - val_loss: 0.0941\n",
      "Epoch 6/10\n",
      "\u001b[1m375/375\u001b[0m \u001b[32m━━━━━━━━━━━━━━━━━━━━\u001b[0m\u001b[37m\u001b[0m \u001b[1m1s\u001b[0m 3ms/step - accuracy: 0.9850 - loss: 0.0502 - val_accuracy: 0.9698 - val_loss: 0.0985\n",
      "Epoch 7/10\n",
      "\u001b[1m375/375\u001b[0m \u001b[32m━━━━━━━━━━━━━━━━━━━━\u001b[0m\u001b[37m\u001b[0m \u001b[1m1s\u001b[0m 2ms/step - accuracy: 0.9877 - loss: 0.0403 - val_accuracy: 0.9746 - val_loss: 0.0906\n",
      "Epoch 8/10\n",
      "\u001b[1m375/375\u001b[0m \u001b[32m━━━━━━━━━━━━━━━━━━━━\u001b[0m\u001b[37m\u001b[0m \u001b[1m1s\u001b[0m 2ms/step - accuracy: 0.9910 - loss: 0.0337 - val_accuracy: 0.9737 - val_loss: 0.0913\n",
      "Epoch 9/10\n",
      "\u001b[1m375/375\u001b[0m \u001b[32m━━━━━━━━━━━━━━━━━━━━\u001b[0m\u001b[37m\u001b[0m \u001b[1m1s\u001b[0m 3ms/step - accuracy: 0.9934 - loss: 0.0254 - val_accuracy: 0.9743 - val_loss: 0.0912\n",
      "Epoch 10/10\n",
      "\u001b[1m375/375\u001b[0m \u001b[32m━━━━━━━━━━━━━━━━━━━━\u001b[0m\u001b[37m\u001b[0m \u001b[1m1s\u001b[0m 3ms/step - accuracy: 0.9926 - loss: 0.0251 - val_accuracy: 0.9753 - val_loss: 0.0940\n",
      "\n",
      "Precisión validación final: 97.53%\n",
      "Tiempo total de entrenamiento: 11.54 segundos\n",
      "Capa 1 - Pesos: (784, 128), Sesgos: (128,)\n",
      "Capa 2 - Pesos: (128, 64), Sesgos: (64,)\n",
      "Capa 3 - Pesos: (64, 10), Sesgos: (10,)\n"
     ]
    }
   ],
   "source": [
    "\n",
    "\n",
    "model = keras.Sequential([\n",
    "    layers.Flatten(input_shape=(28, 28)),\n",
    "    layers.Dense(128, activation='relu'),       # Primera capa oculta\n",
    "    layers.Dense(64, activation='relu'),        # Segunda capa oculta \n",
    "    layers.Dense(10, activation='softmax')      # Capa de salida\n",
    "])\n",
    "\n",
    "model.compile(optimizer='adam',\n",
    "            loss='sparse_categorical_crossentropy',\n",
    "            metrics=['accuracy'])\n",
    "\n",
    "start = time.time()\n",
    "\n",
    "history = model.fit(\n",
    "    x_train_new, y_train_new,\n",
    "    validation_data=(x_val, y_val),\n",
    "    epochs=10,\n",
    "    batch_size = 128\n",
    ")\n",
    "\n",
    "end = time.time()\n",
    "tiempo = round(end - start, 2)\n",
    "val_acc = round(history.history['val_accuracy'][-1] * 100, 2)\n",
    "\n",
    "print(f\"\\nPrecisión validación final: {val_acc}%\")\n",
    "print(f\"Tiempo total de entrenamiento: {tiempo} segundos\")\n",
    "\n",
    "for i, layer in enumerate(model.layers):\n",
    "    weights = layer.get_weights()\n",
    "    if weights:\n",
    "        w_shape = weights[0].shape\n",
    "        b_shape = weights[1].shape\n",
    "        print(f\"Capa {i} - Pesos: {w_shape}, Sesgos: {b_shape}\")"
   ]
  },
  {
   "cell_type": "markdown",
   "id": "b3e5c549",
   "metadata": {},
   "source": [
    "**Cambios al código**\n",
    "<br>\n",
    "Se agregó una segunda capa con 64 neuronas (64, activation='relu') entre la primera capa oculta y la de salida. Esto aumentó la profundidad de la red y el número total de parámetros. Se utilizó la misma función de activación (ReLU). Se mantuvo el optimizador y el número de épocas constantes para comparar bajo las mismas condiciones.\n",
    "\n",
    "**Comparación sobre el modelo original**\n",
    "<br>\n",
    "Tomando en cuenta que ambos se entrenaron con 10 épocas y un batch size de 128, tuvo un tiempo de entrenamiento levemente mayor. Mientras el modelo de 128 neuronas tuvo un tiempo de entrenamiento de 10.5 segundos, este nuevo modelo con una capa oculta adicional tomó 11.57 segundos en entrenarse. Además, este nuevo modelo demostró tener una mejor precisión que el modelo original, con un 97.53%, mientras que el modelo original obtuvo una precisión final de 97.34%"
   ]
  },
  {
   "cell_type": "markdown",
   "id": "68e27757",
   "metadata": {},
   "source": [
    "## **3. Redes Profundas**"
   ]
  },
  {
   "cell_type": "code",
   "execution_count": null,
   "id": "52fdfdf3",
   "metadata": {},
   "outputs": [
    {
     "name": "stdout",
     "output_type": "stream",
     "text": [
      "============================================================\n",
      " Arquitectura con 2 capas ocultas: [128, 64]\n",
      "Epoch 1/10\n"
     ]
    },
    {
     "name": "stderr",
     "output_type": "stream",
     "text": [
      "C:\\Users\\Ale\\AppData\\Local\\Packages\\PythonSoftwareFoundation.Python.3.10_qbz5n2kfra8p0\\LocalCache\\local-packages\\Python310\\site-packages\\keras\\src\\layers\\reshaping\\flatten.py:37: UserWarning: Do not pass an `input_shape`/`input_dim` argument to a layer. When using Sequential models, prefer using an `Input(shape)` object as the first layer in the model instead.\n",
      "  super().__init__(**kwargs)\n"
     ]
    },
    {
     "name": "stdout",
     "output_type": "stream",
     "text": [
      "\u001b[1m375/375\u001b[0m \u001b[32m━━━━━━━━━━━━━━━━━━━━\u001b[0m\u001b[37m\u001b[0m \u001b[1m3s\u001b[0m 4ms/step - accuracy: 0.7995 - loss: 0.7046 - val_accuracy: 0.9472 - val_loss: 0.1802\n",
      "Epoch 2/10\n",
      "\u001b[1m375/375\u001b[0m \u001b[32m━━━━━━━━━━━━━━━━━━━━\u001b[0m\u001b[37m\u001b[0m \u001b[1m1s\u001b[0m 2ms/step - accuracy: 0.9542 - loss: 0.1633 - val_accuracy: 0.9592 - val_loss: 0.1383\n",
      "Epoch 3/10\n",
      "\u001b[1m375/375\u001b[0m \u001b[32m━━━━━━━━━━━━━━━━━━━━\u001b[0m\u001b[37m\u001b[0m \u001b[1m1s\u001b[0m 2ms/step - accuracy: 0.9672 - loss: 0.1086 - val_accuracy: 0.9627 - val_loss: 0.1233\n",
      "Epoch 4/10\n",
      "\u001b[1m375/375\u001b[0m \u001b[32m━━━━━━━━━━━━━━━━━━━━\u001b[0m\u001b[37m\u001b[0m \u001b[1m1s\u001b[0m 2ms/step - accuracy: 0.9746 - loss: 0.0846 - val_accuracy: 0.9689 - val_loss: 0.1007\n",
      "Epoch 5/10\n",
      "\u001b[1m375/375\u001b[0m \u001b[32m━━━━━━━━━━━━━━━━━━━━\u001b[0m\u001b[37m\u001b[0m \u001b[1m1s\u001b[0m 3ms/step - accuracy: 0.9806 - loss: 0.0643 - val_accuracy: 0.9699 - val_loss: 0.0974\n",
      "Epoch 6/10\n",
      "\u001b[1m375/375\u001b[0m \u001b[32m━━━━━━━━━━━━━━━━━━━━\u001b[0m\u001b[37m\u001b[0m \u001b[1m1s\u001b[0m 3ms/step - accuracy: 0.9853 - loss: 0.0496 - val_accuracy: 0.9718 - val_loss: 0.0908\n",
      "Epoch 7/10\n",
      "\u001b[1m375/375\u001b[0m \u001b[32m━━━━━━━━━━━━━━━━━━━━\u001b[0m\u001b[37m\u001b[0m \u001b[1m1s\u001b[0m 2ms/step - accuracy: 0.9880 - loss: 0.0402 - val_accuracy: 0.9722 - val_loss: 0.0964\n",
      "Epoch 8/10\n",
      "\u001b[1m375/375\u001b[0m \u001b[32m━━━━━━━━━━━━━━━━━━━━\u001b[0m\u001b[37m\u001b[0m \u001b[1m1s\u001b[0m 3ms/step - accuracy: 0.9893 - loss: 0.0348 - val_accuracy: 0.9757 - val_loss: 0.0804\n",
      "Epoch 9/10\n",
      "\u001b[1m375/375\u001b[0m \u001b[32m━━━━━━━━━━━━━━━━━━━━\u001b[0m\u001b[37m\u001b[0m \u001b[1m1s\u001b[0m 3ms/step - accuracy: 0.9927 - loss: 0.0246 - val_accuracy: 0.9747 - val_loss: 0.0851\n",
      "Epoch 10/10\n",
      "\u001b[1m375/375\u001b[0m \u001b[32m━━━━━━━━━━━━━━━━━━━━\u001b[0m\u001b[37m\u001b[0m \u001b[1m1s\u001b[0m 3ms/step - accuracy: 0.9944 - loss: 0.0204 - val_accuracy: 0.9735 - val_loss: 0.0886\n",
      " Precisión de validación final: 97.35%\n",
      " Tiempo total de entrenamiento: 12.01 segundos\n",
      "============================================================\n",
      " Arquitectura con 3 capas ocultas: [256, 128, 64]\n",
      "Epoch 1/10\n",
      "\u001b[1m375/375\u001b[0m \u001b[32m━━━━━━━━━━━━━━━━━━━━\u001b[0m\u001b[37m\u001b[0m \u001b[1m3s\u001b[0m 5ms/step - accuracy: 0.8298 - loss: 0.5830 - val_accuracy: 0.9501 - val_loss: 0.1655\n",
      "Epoch 2/10\n",
      "\u001b[1m375/375\u001b[0m \u001b[32m━━━━━━━━━━━━━━━━━━━━\u001b[0m\u001b[37m\u001b[0m \u001b[1m1s\u001b[0m 4ms/step - accuracy: 0.9636 - loss: 0.1185 - val_accuracy: 0.9672 - val_loss: 0.1081\n",
      "Epoch 3/10\n",
      "\u001b[1m375/375\u001b[0m \u001b[32m━━━━━━━━━━━━━━━━━━━━\u001b[0m\u001b[37m\u001b[0m \u001b[1m2s\u001b[0m 5ms/step - accuracy: 0.9752 - loss: 0.0798 - val_accuracy: 0.9731 - val_loss: 0.0877\n",
      "Epoch 4/10\n",
      "\u001b[1m375/375\u001b[0m \u001b[32m━━━━━━━━━━━━━━━━━━━━\u001b[0m\u001b[37m\u001b[0m \u001b[1m2s\u001b[0m 4ms/step - accuracy: 0.9847 - loss: 0.0504 - val_accuracy: 0.9760 - val_loss: 0.0815\n",
      "Epoch 5/10\n",
      "\u001b[1m375/375\u001b[0m \u001b[32m━━━━━━━━━━━━━━━━━━━━\u001b[0m\u001b[37m\u001b[0m \u001b[1m2s\u001b[0m 5ms/step - accuracy: 0.9887 - loss: 0.0360 - val_accuracy: 0.9763 - val_loss: 0.0776\n",
      "Epoch 6/10\n",
      "\u001b[1m375/375\u001b[0m \u001b[32m━━━━━━━━━━━━━━━━━━━━\u001b[0m\u001b[37m\u001b[0m \u001b[1m2s\u001b[0m 4ms/step - accuracy: 0.9913 - loss: 0.0276 - val_accuracy: 0.9780 - val_loss: 0.0798\n",
      "Epoch 7/10\n",
      "\u001b[1m375/375\u001b[0m \u001b[32m━━━━━━━━━━━━━━━━━━━━\u001b[0m\u001b[37m\u001b[0m \u001b[1m2s\u001b[0m 4ms/step - accuracy: 0.9931 - loss: 0.0224 - val_accuracy: 0.9764 - val_loss: 0.0891\n",
      "Epoch 8/10\n",
      "\u001b[1m375/375\u001b[0m \u001b[32m━━━━━━━━━━━━━━━━━━━━\u001b[0m\u001b[37m\u001b[0m \u001b[1m2s\u001b[0m 4ms/step - accuracy: 0.9933 - loss: 0.0201 - val_accuracy: 0.9768 - val_loss: 0.0916\n",
      "Epoch 9/10\n",
      "\u001b[1m375/375\u001b[0m \u001b[32m━━━━━━━━━━━━━━━━━━━━\u001b[0m\u001b[37m\u001b[0m \u001b[1m2s\u001b[0m 4ms/step - accuracy: 0.9950 - loss: 0.0169 - val_accuracy: 0.9738 - val_loss: 0.1058\n",
      "Epoch 10/10\n",
      "\u001b[1m375/375\u001b[0m \u001b[32m━━━━━━━━━━━━━━━━━━━━\u001b[0m\u001b[37m\u001b[0m \u001b[1m1s\u001b[0m 4ms/step - accuracy: 0.9944 - loss: 0.0166 - val_accuracy: 0.9772 - val_loss: 0.0940\n",
      " Precisión de validación final: 97.72%\n",
      " Tiempo total de entrenamiento: 17.28 segundos\n",
      "============================================================\n",
      " Arquitectura con 4 capas ocultas: [256, 128, 64, 32]\n",
      "Epoch 1/10\n",
      "\u001b[1m375/375\u001b[0m \u001b[32m━━━━━━━━━━━━━━━━━━━━\u001b[0m\u001b[37m\u001b[0m \u001b[1m3s\u001b[0m 4ms/step - accuracy: 0.7917 - loss: 0.6636 - val_accuracy: 0.9574 - val_loss: 0.1410\n",
      "Epoch 2/10\n",
      "\u001b[1m375/375\u001b[0m \u001b[32m━━━━━━━━━━━━━━━━━━━━\u001b[0m\u001b[37m\u001b[0m \u001b[1m2s\u001b[0m 4ms/step - accuracy: 0.9612 - loss: 0.1308 - val_accuracy: 0.9597 - val_loss: 0.1283\n",
      "Epoch 3/10\n",
      "\u001b[1m375/375\u001b[0m \u001b[32m━━━━━━━━━━━━━━━━━━━━\u001b[0m\u001b[37m\u001b[0m \u001b[1m2s\u001b[0m 5ms/step - accuracy: 0.9760 - loss: 0.0798 - val_accuracy: 0.9695 - val_loss: 0.1036\n",
      "Epoch 4/10\n",
      "\u001b[1m375/375\u001b[0m \u001b[32m━━━━━━━━━━━━━━━━━━━━\u001b[0m\u001b[37m\u001b[0m \u001b[1m2s\u001b[0m 4ms/step - accuracy: 0.9822 - loss: 0.0599 - val_accuracy: 0.9771 - val_loss: 0.0807\n",
      "Epoch 5/10\n",
      "\u001b[1m375/375\u001b[0m \u001b[32m━━━━━━━━━━━━━━━━━━━━\u001b[0m\u001b[37m\u001b[0m \u001b[1m1s\u001b[0m 4ms/step - accuracy: 0.9867 - loss: 0.0413 - val_accuracy: 0.9712 - val_loss: 0.0999\n",
      "Epoch 6/10\n",
      "\u001b[1m375/375\u001b[0m \u001b[32m━━━━━━━━━━━━━━━━━━━━\u001b[0m\u001b[37m\u001b[0m \u001b[1m1s\u001b[0m 4ms/step - accuracy: 0.9907 - loss: 0.0305 - val_accuracy: 0.9780 - val_loss: 0.0802\n",
      "Epoch 7/10\n",
      "\u001b[1m375/375\u001b[0m \u001b[32m━━━━━━━━━━━━━━━━━━━━\u001b[0m\u001b[37m\u001b[0m \u001b[1m1s\u001b[0m 4ms/step - accuracy: 0.9902 - loss: 0.0284 - val_accuracy: 0.9761 - val_loss: 0.0855\n",
      "Epoch 8/10\n",
      "\u001b[1m375/375\u001b[0m \u001b[32m━━━━━━━━━━━━━━━━━━━━\u001b[0m\u001b[37m\u001b[0m \u001b[1m1s\u001b[0m 4ms/step - accuracy: 0.9925 - loss: 0.0234 - val_accuracy: 0.9801 - val_loss: 0.0752\n",
      "Epoch 9/10\n",
      "\u001b[1m375/375\u001b[0m \u001b[32m━━━━━━━━━━━━━━━━━━━━\u001b[0m\u001b[37m\u001b[0m \u001b[1m1s\u001b[0m 4ms/step - accuracy: 0.9953 - loss: 0.0160 - val_accuracy: 0.9783 - val_loss: 0.0932\n",
      "Epoch 10/10\n",
      "\u001b[1m375/375\u001b[0m \u001b[32m━━━━━━━━━━━━━━━━━━━━\u001b[0m\u001b[37m\u001b[0m \u001b[1m1s\u001b[0m 4ms/step - accuracy: 0.9951 - loss: 0.0155 - val_accuracy: 0.9799 - val_loss: 0.0856\n",
      " Precisión de validación final: 97.99%\n",
      " Tiempo total de entrenamiento: 16.36 segundos\n",
      "============================================================\n",
      " Arquitectura con 5 capas ocultas: [512, 256, 128, 64, 32]\n",
      "Epoch 1/10\n",
      "\u001b[1m375/375\u001b[0m \u001b[32m━━━━━━━━━━━━━━━━━━━━\u001b[0m\u001b[37m\u001b[0m \u001b[1m4s\u001b[0m 7ms/step - accuracy: 0.8301 - loss: 0.5553 - val_accuracy: 0.9567 - val_loss: 0.1447\n",
      "Epoch 2/10\n",
      "\u001b[1m375/375\u001b[0m \u001b[32m━━━━━━━━━━━━━━━━━━━━\u001b[0m\u001b[37m\u001b[0m \u001b[1m2s\u001b[0m 6ms/step - accuracy: 0.9670 - loss: 0.1131 - val_accuracy: 0.9663 - val_loss: 0.1140\n",
      "Epoch 3/10\n",
      "\u001b[1m375/375\u001b[0m \u001b[32m━━━━━━━━━━━━━━━━━━━━\u001b[0m\u001b[37m\u001b[0m \u001b[1m2s\u001b[0m 7ms/step - accuracy: 0.9799 - loss: 0.0678 - val_accuracy: 0.9744 - val_loss: 0.0828\n",
      "Epoch 4/10\n",
      "\u001b[1m375/375\u001b[0m \u001b[32m━━━━━━━━━━━━━━━━━━━━\u001b[0m\u001b[37m\u001b[0m \u001b[1m2s\u001b[0m 6ms/step - accuracy: 0.9858 - loss: 0.0448 - val_accuracy: 0.9726 - val_loss: 0.0957\n",
      "Epoch 5/10\n",
      "\u001b[1m375/375\u001b[0m \u001b[32m━━━━━━━━━━━━━━━━━━━━\u001b[0m\u001b[37m\u001b[0m \u001b[1m3s\u001b[0m 7ms/step - accuracy: 0.9896 - loss: 0.0346 - val_accuracy: 0.9730 - val_loss: 0.0970\n",
      "Epoch 6/10\n",
      "\u001b[1m375/375\u001b[0m \u001b[32m━━━━━━━━━━━━━━━━━━━━\u001b[0m\u001b[37m\u001b[0m \u001b[1m3s\u001b[0m 7ms/step - accuracy: 0.9898 - loss: 0.0310 - val_accuracy: 0.9744 - val_loss: 0.1052\n",
      "Epoch 7/10\n",
      "\u001b[1m375/375\u001b[0m \u001b[32m━━━━━━━━━━━━━━━━━━━━\u001b[0m\u001b[37m\u001b[0m \u001b[1m3s\u001b[0m 8ms/step - accuracy: 0.9926 - loss: 0.0235 - val_accuracy: 0.9742 - val_loss: 0.0989\n",
      "Epoch 8/10\n",
      "\u001b[1m375/375\u001b[0m \u001b[32m━━━━━━━━━━━━━━━━━━━━\u001b[0m\u001b[37m\u001b[0m \u001b[1m2s\u001b[0m 7ms/step - accuracy: 0.9940 - loss: 0.0197 - val_accuracy: 0.9766 - val_loss: 0.0934\n",
      "Epoch 9/10\n",
      "\u001b[1m375/375\u001b[0m \u001b[32m━━━━━━━━━━━━━━━━━━━━\u001b[0m\u001b[37m\u001b[0m \u001b[1m3s\u001b[0m 7ms/step - accuracy: 0.9926 - loss: 0.0219 - val_accuracy: 0.9774 - val_loss: 0.0930\n",
      "Epoch 10/10\n",
      "\u001b[1m375/375\u001b[0m \u001b[32m━━━━━━━━━━━━━━━━━━━━\u001b[0m\u001b[37m\u001b[0m \u001b[1m2s\u001b[0m 7ms/step - accuracy: 0.9948 - loss: 0.0157 - val_accuracy: 0.9756 - val_loss: 0.1045\n",
      " Precisión de validación final: 97.56%\n",
      " Tiempo total de entrenamiento: 27.25 segundos\n"
     ]
    }
   ],
   "source": [
    "arquitecturas = [\n",
    "    [128, 64],                      # 2 capas\n",
    "    [256, 128, 64],                 # 3 capas\n",
    "    [256, 128, 64, 32],             # 4 capas\n",
    "    [512, 256, 128, 64, 32]         # 5 capas\n",
    "]\n",
    "\n",
    "for i, capa_oculta in enumerate(arquitecturas, start=2):\n",
    "    print(\"=\" * 60)\n",
    "    print(f\" Arquitectura con {i} capas ocultas: {capa_oculta}\")\n",
    "\n",
    "\n",
    "    model = keras.Sequential()\n",
    "    model.add(layers.Flatten(input_shape=(28, 28)))\n",
    "\n",
    "    for units in capa_oculta:\n",
    "        model.add(layers.Dense(units, activation='relu'))\n",
    "\n",
    "    model.add(layers.Dense(10, activation='softmax'))\n",
    "\n",
    "    model.compile(optimizer='adam',\n",
    "                loss='sparse_categorical_crossentropy',\n",
    "                metrics=['accuracy'])\n",
    "\n",
    "    start = time.time()\n",
    "\n",
    "    history = model.fit(\n",
    "        x_train_new, y_train_new,\n",
    "        validation_data=(x_val, y_val),\n",
    "        epochs=10,\n",
    "        batch_size = 128,\n",
    "        verbose=1  \n",
    "    )\n",
    "\n",
    "    end = time.time()\n",
    "    tiempo = round(end - start, 2)\n",
    "    val_acc = round(history.history['val_accuracy'][-1] * 100, 2)\n",
    "\n",
    "    print(f\" Precisión de validación final: {val_acc}%\")\n",
    "    print(f\" Tiempo total de entrenamiento: {tiempo} segundos\")"
   ]
  },
  {
   "cell_type": "code",
   "execution_count": null,
   "id": "9a6ac50c",
   "metadata": {},
   "outputs": [],
   "source": []
  }
 ],
 "metadata": {
  "kernelspec": {
   "display_name": "Python 3",
   "language": "python",
   "name": "python3"
  },
  "language_info": {
   "codemirror_mode": {
    "name": "ipython",
    "version": 3
   },
   "file_extension": ".py",
   "mimetype": "text/x-python",
   "name": "python",
   "nbconvert_exporter": "python",
   "pygments_lexer": "ipython3",
   "version": "3.10.11"
  }
 },
 "nbformat": 4,
 "nbformat_minor": 5
}
