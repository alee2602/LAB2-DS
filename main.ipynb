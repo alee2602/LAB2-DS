{
 "cells": [
  {
   "cell_type": "markdown",
   "id": "b7206b44",
   "metadata": {},
   "source": [
    "# **Laboratorio 2**\n",
    "\n",
    "Derek Arreaga - 22537\n",
    "Mónica Salvatierra - 22249"
   ]
  },
  {
   "cell_type": "code",
   "execution_count": 1,
   "id": "023aab66",
   "metadata": {},
   "outputs": [],
   "source": [
    "import numpy as np\n",
    "import tensorflow as tf"
   ]
  },
  {
   "cell_type": "markdown",
   "id": "740a7331",
   "metadata": {},
   "source": [
    "Descargar dataset de MNIST y generar los conjuntos de entrenamiento y prueba"
   ]
  },
  {
   "cell_type": "code",
   "execution_count": 2,
   "id": "e885f9f6",
   "metadata": {},
   "outputs": [
    {
     "name": "stdout",
     "output_type": "stream",
     "text": [
      "Downloading data from https://storage.googleapis.com/tensorflow/tf-keras-datasets/mnist.npz\n",
      "\u001b[1m11490434/11490434\u001b[0m \u001b[32m━━━━━━━━━━━━━━━━━━━━\u001b[0m\u001b[37m\u001b[0m \u001b[1m10s\u001b[0m 1us/step\n",
      "Entrenamiento: (60000, 28, 28) (60000,)\n",
      "Prueba: (10000, 28, 28) (10000,)\n"
     ]
    }
   ],
   "source": [
    "(x_train, y_train), (x_test, y_test) = tf.keras.datasets.mnist.load_data()\n",
    "\n",
    "\n",
    "print(\"Entrenamiento:\", x_train.shape, y_train.shape)\n",
    "print(\"Prueba:\", x_test.shape, y_test.shape)"
   ]
  },
  {
   "cell_type": "code",
   "execution_count": 6,
   "id": "00c6df63",
   "metadata": {},
   "outputs": [],
   "source": [
    "# Normalizar los valores de píxel a rango [0, 1]\n",
    "x_train = x_train / 255.0\n",
    "x_test = x_test / 255.0\n"
   ]
  },
  {
   "cell_type": "code",
   "execution_count": 8,
   "id": "ecd936c5",
   "metadata": {},
   "outputs": [
    {
     "name": "stdout",
     "output_type": "stream",
     "text": [
      "Min pixel value: 0.0\n",
      "Max pixel value: 1.0\n"
     ]
    }
   ],
   "source": [
    "print(\"Min pixel value:\", x_train.min())\n",
    "print(\"Max pixel value:\", x_train.max())\n"
   ]
  },
  {
   "cell_type": "markdown",
   "id": "aa0d9e4e",
   "metadata": {},
   "source": [
    "## Preprocesamiento de datos"
   ]
  },
  {
   "cell_type": "markdown",
   "id": "0c858017",
   "metadata": {},
   "source": [
    "Crear un conjunto de validación a partir del conjunto de entrenamiento"
   ]
  },
  {
   "cell_type": "code",
   "execution_count": 7,
   "id": "fa87b4f3",
   "metadata": {},
   "outputs": [
    {
     "name": "stdout",
     "output_type": "stream",
     "text": [
      "x_train: (48000, 28, 28)\n",
      "x_val: (12000, 28, 28)\n",
      "x_test: (10000, 28, 28)\n"
     ]
    }
   ],
   "source": [
    "from sklearn.model_selection import train_test_split\n",
    "\n",
    "# Dividir x_train en 80% entrenamiento y 20% validación\n",
    "x_train_new, x_val, y_train_new, y_val = train_test_split(\n",
    "    x_train, y_train, test_size=0.2, random_state=42)\n",
    "\n",
    "print(\"x_train:\", x_train_new.shape)\n",
    "print(\"x_val:\", x_val.shape)\n",
    "print(\"x_test:\", x_test.shape)\n"
   ]
  },
  {
   "cell_type": "markdown",
   "id": "08aad6ed",
   "metadata": {},
   "source": [
    "1. Modificación del Ancho de la Red"
   ]
  },
  {
   "cell_type": "code",
   "execution_count": 12,
   "id": "5e6a43b7",
   "metadata": {},
   "outputs": [
    {
     "name": "stdout",
     "output_type": "stream",
     "text": [
      "Epoch 1/5\n",
      "\u001b[1m1500/1500\u001b[0m \u001b[32m━━━━━━━━━━━━━━━━━━━━\u001b[0m\u001b[37m\u001b[0m \u001b[1m8s\u001b[0m 5ms/step - accuracy: 0.8641 - loss: 0.4733 - val_accuracy: 0.9557 - val_loss: 0.1589\n",
      "Epoch 2/5\n",
      "\u001b[1m1500/1500\u001b[0m \u001b[32m━━━━━━━━━━━━━━━━━━━━\u001b[0m\u001b[37m\u001b[0m \u001b[1m7s\u001b[0m 4ms/step - accuracy: 0.9603 - loss: 0.1359 - val_accuracy: 0.9610 - val_loss: 0.1290\n",
      "Epoch 3/5\n",
      "\u001b[1m1500/1500\u001b[0m \u001b[32m━━━━━━━━━━━━━━━━━━━━\u001b[0m\u001b[37m\u001b[0m \u001b[1m6s\u001b[0m 4ms/step - accuracy: 0.9735 - loss: 0.0887 - val_accuracy: 0.9675 - val_loss: 0.1033\n",
      "Epoch 4/5\n",
      "\u001b[1m1500/1500\u001b[0m \u001b[32m━━━━━━━━━━━━━━━━━━━━\u001b[0m\u001b[37m\u001b[0m \u001b[1m7s\u001b[0m 4ms/step - accuracy: 0.9801 - loss: 0.0652 - val_accuracy: 0.9714 - val_loss: 0.0953\n",
      "Epoch 5/5\n",
      "\u001b[1m1500/1500\u001b[0m \u001b[32m━━━━━━━━━━━━━━━━━━━━\u001b[0m\u001b[37m\u001b[0m \u001b[1m7s\u001b[0m 5ms/step - accuracy: 0.9861 - loss: 0.0470 - val_accuracy: 0.9712 - val_loss: 0.0906\n"
     ]
    }
   ],
   "source": [
    "from tensorflow import keras\n",
    "from tensorflow.keras import layers\n",
    "\n",
    "model = keras.Sequential([\n",
    "    layers.Flatten(input_shape=(28, 28)),\n",
    "    layers.Dense(128, activation='relu'),\n",
    "    layers.Dense(10, activation='softmax')\n",
    "])\n",
    "\n",
    "model.compile(optimizer='adam',\n",
    "            loss='sparse_categorical_crossentropy',\n",
    "            metrics=['accuracy'])\n",
    "\n",
    "history = model.fit(\n",
    "    x_train_new, y_train_new,\n",
    "    validation_data=(x_val, y_val),\n",
    "    epochs=5\n",
    ")\n"
   ]
  },
  {
   "cell_type": "code",
   "execution_count": 13,
   "id": "a450c193",
   "metadata": {},
   "outputs": [
    {
     "name": "stdout",
     "output_type": "stream",
     "text": [
      "Precisión de validación final: 97.12 %\n"
     ]
    }
   ],
   "source": [
    "val_acc = history.history['val_accuracy'][-1]\n",
    "print(\"Precisión de validación final:\", round(val_acc * 100, 2), \"%\")\n"
   ]
  },
  {
   "cell_type": "code",
   "execution_count": 14,
   "id": "fe99ce9a",
   "metadata": {},
   "outputs": [
    {
     "name": "stdout",
     "output_type": "stream",
     "text": [
      "Epoch 1/5\n",
      "\u001b[1m1500/1500\u001b[0m \u001b[32m━━━━━━━━━━━━━━━━━━━━\u001b[0m\u001b[37m\u001b[0m \u001b[1m8s\u001b[0m 6ms/step - accuracy: 0.9882 - loss: 0.0378 - val_accuracy: 0.9744 - val_loss: 0.0817\n",
      "Epoch 2/5\n",
      "\u001b[1m1500/1500\u001b[0m \u001b[32m━━━━━━━━━━━━━━━━━━━━\u001b[0m\u001b[37m\u001b[0m \u001b[1m7s\u001b[0m 5ms/step - accuracy: 0.9904 - loss: 0.0306 - val_accuracy: 0.9753 - val_loss: 0.0853\n",
      "Epoch 3/5\n",
      "\u001b[1m1500/1500\u001b[0m \u001b[32m━━━━━━━━━━━━━━━━━━━━\u001b[0m\u001b[37m\u001b[0m \u001b[1m6s\u001b[0m 4ms/step - accuracy: 0.9938 - loss: 0.0222 - val_accuracy: 0.9759 - val_loss: 0.0867\n",
      "Epoch 4/5\n",
      "\u001b[1m1500/1500\u001b[0m \u001b[32m━━━━━━━━━━━━━━━━━━━━\u001b[0m\u001b[37m\u001b[0m \u001b[1m6s\u001b[0m 4ms/step - accuracy: 0.9949 - loss: 0.0179 - val_accuracy: 0.9764 - val_loss: 0.0845\n",
      "Epoch 5/5\n",
      "\u001b[1m1500/1500\u001b[0m \u001b[32m━━━━━━━━━━━━━━━━━━━━\u001b[0m\u001b[37m\u001b[0m \u001b[1m6s\u001b[0m 4ms/step - accuracy: 0.9959 - loss: 0.0150 - val_accuracy: 0.9767 - val_loss: 0.0900\n",
      "Tiempo total de entrenamiento: 34.42 segundos\n"
     ]
    }
   ],
   "source": [
    "import time\n",
    "\n",
    "start = time.time()\n",
    "\n",
    "history = model.fit(\n",
    "    x_train_new, y_train_new,\n",
    "    validation_data=(x_val, y_val),\n",
    "    epochs=5\n",
    ")\n",
    "\n",
    "end = time.time()\n",
    "print(\"Tiempo total de entrenamiento:\", round(end - start, 2), \"segundos\")\n"
   ]
  },
  {
   "cell_type": "markdown",
   "id": "3d3ac68f",
   "metadata": {},
   "source": [
    "Modifique el tamaño de la capa escondida a 200 neuronas"
   ]
  },
  {
   "cell_type": "code",
   "execution_count": 16,
   "id": "2f09a9f6",
   "metadata": {},
   "outputs": [
    {
     "name": "stdout",
     "output_type": "stream",
     "text": [
      "Epoch 1/5\n",
      "\u001b[1m1500/1500\u001b[0m \u001b[32m━━━━━━━━━━━━━━━━━━━━\u001b[0m\u001b[37m\u001b[0m \u001b[1m9s\u001b[0m 5ms/step - accuracy: 0.8760 - loss: 0.4358 - val_accuracy: 0.9586 - val_loss: 0.1408\n",
      "Epoch 2/5\n",
      "\u001b[1m1500/1500\u001b[0m \u001b[32m━━━━━━━━━━━━━━━━━━━━\u001b[0m\u001b[37m\u001b[0m \u001b[1m7s\u001b[0m 4ms/step - accuracy: 0.9635 - loss: 0.1220 - val_accuracy: 0.9688 - val_loss: 0.1036\n",
      "Epoch 3/5\n",
      "\u001b[1m1500/1500\u001b[0m \u001b[32m━━━━━━━━━━━━━━━━━━━━\u001b[0m\u001b[37m\u001b[0m \u001b[1m8s\u001b[0m 6ms/step - accuracy: 0.9779 - loss: 0.0778 - val_accuracy: 0.9693 - val_loss: 0.0992\n",
      "Epoch 4/5\n",
      "\u001b[1m1500/1500\u001b[0m \u001b[32m━━━━━━━━━━━━━━━━━━━━\u001b[0m\u001b[37m\u001b[0m \u001b[1m8s\u001b[0m 5ms/step - accuracy: 0.9826 - loss: 0.0567 - val_accuracy: 0.9767 - val_loss: 0.0838\n",
      "Epoch 5/5\n",
      "\u001b[1m1500/1500\u001b[0m \u001b[32m━━━━━━━━━━━━━━━━━━━━\u001b[0m\u001b[37m\u001b[0m \u001b[1m8s\u001b[0m 5ms/step - accuracy: 0.9889 - loss: 0.0361 - val_accuracy: 0.9728 - val_loss: 0.0973\n",
      "\n",
      " Precisión de validación final: 97.28%\n",
      "Tiempo total de entrenamiento: 39.58 segundos\n"
     ]
    }
   ],
   "source": [
    "model = keras.Sequential([\n",
    "    layers.Flatten(input_shape=(28, 28)),\n",
    "    layers.Dense(200, activation='relu'),  # ← cambio aquí\n",
    "    layers.Dense(10, activation='softmax')\n",
    "])\n",
    "\n",
    "model.compile(optimizer='adam',\n",
    "            loss='sparse_categorical_crossentropy',\n",
    "            metrics=['accuracy'])\n",
    "\n",
    "start = time.time()\n",
    "\n",
    "history = model.fit(\n",
    "    x_train_new, y_train_new,\n",
    "    validation_data=(x_val, y_val),\n",
    "    epochs=5\n",
    ")\n",
    "\n",
    "end = time.time()\n",
    "tiempo = round(end - start, 2)\n",
    "\n",
    "# Obtener precisión final en validación\n",
    "val_acc = round(history.history['val_accuracy'][-1] * 100, 2)\n",
    "\n",
    "print(f\"\\n Precisión de validación final: {val_acc}%\")\n",
    "print(f\"Tiempo total de entrenamiento: {tiempo} segundos\")"
   ]
  },
  {
   "cell_type": "markdown",
   "id": "95f0c54a",
   "metadata": {},
   "source": [
    "**¿Cómo cambia la precisión de validación del modelo?**\n",
    "\n",
    "- Entrenando el modelo con una capa oculta de 200 neuronas y 5 épocas, el rendimiento no fue muy diferente al modelo baseque ocupaba 128 neuronas en su capa oculta. Para el modelo base, se obtuvo un accuracy del 97.12%, mientras que en el nuevo modelo, el accuracy fue de 97.28%.\n",
    "\n",
    "**¿Cuánto tiempo tarda el algoritmo en entrenar?**\n",
    "\n",
    "- El modelo base tardó 34.42 segundos en entrenarse, mientras el nuevo modelo con más neuronas tardó 39.58 segundos. Hubo una diferencia de 5.16 segundos. "
   ]
  },
  {
   "cell_type": "markdown",
   "id": "100b0644",
   "metadata": {},
   "source": [
    "Experimente con diferentes tamaños de capa escondida (50, 100, 300, 500) y determine\n",
    "cuál ofrece el mejor rendimiento."
   ]
  },
  {
   "cell_type": "code",
   "execution_count": 17,
   "id": "83b98ef2",
   "metadata": {},
   "outputs": [
    {
     "name": "stdout",
     "output_type": "stream",
     "text": [
      "\n",
      "Entrenando modelo con 50 neuronas en la capa oculta...\n",
      "Epoch 1/5\n",
      "\u001b[1m1500/1500\u001b[0m \u001b[32m━━━━━━━━━━━━━━━━━━━━\u001b[0m\u001b[37m\u001b[0m \u001b[1m3s\u001b[0m 2ms/step - accuracy: 0.8424 - loss: 0.5710 - val_accuracy: 0.9420 - val_loss: 0.2039\n",
      "Epoch 2/5\n",
      "\u001b[1m1500/1500\u001b[0m \u001b[32m━━━━━━━━━━━━━━━━━━━━\u001b[0m\u001b[37m\u001b[0m \u001b[1m2s\u001b[0m 1ms/step - accuracy: 0.9474 - loss: 0.1827 - val_accuracy: 0.9570 - val_loss: 0.1500\n",
      "Epoch 3/5\n",
      "\u001b[1m1500/1500\u001b[0m \u001b[32m━━━━━━━━━━━━━━━━━━━━\u001b[0m\u001b[37m\u001b[0m \u001b[1m2s\u001b[0m 1ms/step - accuracy: 0.9611 - loss: 0.1343 - val_accuracy: 0.9605 - val_loss: 0.1336\n",
      "Epoch 4/5\n",
      "\u001b[1m1500/1500\u001b[0m \u001b[32m━━━━━━━━━━━━━━━━━━━━\u001b[0m\u001b[37m\u001b[0m \u001b[1m2s\u001b[0m 1ms/step - accuracy: 0.9686 - loss: 0.1061 - val_accuracy: 0.9657 - val_loss: 0.1188\n",
      "Epoch 5/5\n",
      "\u001b[1m1500/1500\u001b[0m \u001b[32m━━━━━━━━━━━━━━━━━━━━\u001b[0m\u001b[37m\u001b[0m \u001b[1m2s\u001b[0m 2ms/step - accuracy: 0.9744 - loss: 0.0854 - val_accuracy: 0.9646 - val_loss: 0.1180\n",
      "→ Precisión de validación: 96.46% | Tiempo: 12.79 segundos\n",
      "\n",
      "Entrenando modelo con 100 neuronas en la capa oculta...\n",
      "Epoch 1/5\n",
      "\u001b[1m1500/1500\u001b[0m \u001b[32m━━━━━━━━━━━━━━━━━━━━\u001b[0m\u001b[37m\u001b[0m \u001b[1m3s\u001b[0m 2ms/step - accuracy: 0.8592 - loss: 0.5037 - val_accuracy: 0.9445 - val_loss: 0.1842\n",
      "Epoch 2/5\n",
      "\u001b[1m1500/1500\u001b[0m \u001b[32m━━━━━━━━━━━━━━━━━━━━\u001b[0m\u001b[37m\u001b[0m \u001b[1m3s\u001b[0m 2ms/step - accuracy: 0.9559 - loss: 0.1494 - val_accuracy: 0.9637 - val_loss: 0.1250\n",
      "Epoch 3/5\n",
      "\u001b[1m1500/1500\u001b[0m \u001b[32m━━━━━━━━━━━━━━━━━━━━\u001b[0m\u001b[37m\u001b[0m \u001b[1m3s\u001b[0m 2ms/step - accuracy: 0.9713 - loss: 0.0994 - val_accuracy: 0.9688 - val_loss: 0.1042\n",
      "Epoch 4/5\n",
      "\u001b[1m1500/1500\u001b[0m \u001b[32m━━━━━━━━━━━━━━━━━━━━\u001b[0m\u001b[37m\u001b[0m \u001b[1m3s\u001b[0m 2ms/step - accuracy: 0.9789 - loss: 0.0699 - val_accuracy: 0.9672 - val_loss: 0.1028\n",
      "Epoch 5/5\n",
      "\u001b[1m1500/1500\u001b[0m \u001b[32m━━━━━━━━━━━━━━━━━━━━\u001b[0m\u001b[37m\u001b[0m \u001b[1m3s\u001b[0m 2ms/step - accuracy: 0.9833 - loss: 0.0588 - val_accuracy: 0.9714 - val_loss: 0.0950\n",
      "→ Precisión de validación: 97.14% | Tiempo: 13.74 segundos\n",
      "\n",
      "Entrenando modelo con 300 neuronas en la capa oculta...\n",
      "Epoch 1/5\n",
      "\u001b[1m1500/1500\u001b[0m \u001b[32m━━━━━━━━━━━━━━━━━━━━\u001b[0m\u001b[37m\u001b[0m \u001b[1m5s\u001b[0m 3ms/step - accuracy: 0.8864 - loss: 0.4028 - val_accuracy: 0.9624 - val_loss: 0.1261\n",
      "Epoch 2/5\n",
      "\u001b[1m1500/1500\u001b[0m \u001b[32m━━━━━━━━━━━━━━━━━━━━\u001b[0m\u001b[37m\u001b[0m \u001b[1m8s\u001b[0m 5ms/step - accuracy: 0.9696 - loss: 0.1053 - val_accuracy: 0.9719 - val_loss: 0.0959\n",
      "Epoch 3/5\n",
      "\u001b[1m1500/1500\u001b[0m \u001b[32m━━━━━━━━━━━━━━━━━━━━\u001b[0m\u001b[37m\u001b[0m \u001b[1m9s\u001b[0m 6ms/step - accuracy: 0.9826 - loss: 0.0618 - val_accuracy: 0.9752 - val_loss: 0.0849\n",
      "Epoch 4/5\n",
      "\u001b[1m1500/1500\u001b[0m \u001b[32m━━━━━━━━━━━━━━━━━━━━\u001b[0m\u001b[37m\u001b[0m \u001b[1m9s\u001b[0m 6ms/step - accuracy: 0.9866 - loss: 0.0445 - val_accuracy: 0.9782 - val_loss: 0.0808\n",
      "Epoch 5/5\n",
      "\u001b[1m1500/1500\u001b[0m \u001b[32m━━━━━━━━━━━━━━━━━━━━\u001b[0m\u001b[37m\u001b[0m \u001b[1m8s\u001b[0m 5ms/step - accuracy: 0.9906 - loss: 0.0308 - val_accuracy: 0.9782 - val_loss: 0.0751\n",
      "→ Precisión de validación: 97.82% | Tiempo: 39.19 segundos\n",
      "\n",
      "Entrenando modelo con 500 neuronas en la capa oculta...\n",
      "Epoch 1/5\n",
      "\u001b[1m1500/1500\u001b[0m \u001b[32m━━━━━━━━━━━━━━━━━━━━\u001b[0m\u001b[37m\u001b[0m \u001b[1m12s\u001b[0m 7ms/step - accuracy: 0.8925 - loss: 0.3734 - val_accuracy: 0.9651 - val_loss: 0.1181\n",
      "Epoch 2/5\n",
      "\u001b[1m1500/1500\u001b[0m \u001b[32m━━━━━━━━━━━━━━━━━━━━\u001b[0m\u001b[37m\u001b[0m \u001b[1m5s\u001b[0m 3ms/step - accuracy: 0.9715 - loss: 0.0950 - val_accuracy: 0.9744 - val_loss: 0.0857\n",
      "Epoch 3/5\n",
      "\u001b[1m1500/1500\u001b[0m \u001b[32m━━━━━━━━━━━━━━━━━━━━\u001b[0m\u001b[37m\u001b[0m \u001b[1m5s\u001b[0m 3ms/step - accuracy: 0.9836 - loss: 0.0548 - val_accuracy: 0.9746 - val_loss: 0.0826\n",
      "Epoch 4/5\n",
      "\u001b[1m1500/1500\u001b[0m \u001b[32m━━━━━━━━━━━━━━━━━━━━\u001b[0m\u001b[37m\u001b[0m \u001b[1m7s\u001b[0m 4ms/step - accuracy: 0.9879 - loss: 0.0382 - val_accuracy: 0.9772 - val_loss: 0.0792\n",
      "Epoch 5/5\n",
      "\u001b[1m1500/1500\u001b[0m \u001b[32m━━━━━━━━━━━━━━━━━━━━\u001b[0m\u001b[37m\u001b[0m \u001b[1m7s\u001b[0m 5ms/step - accuracy: 0.9914 - loss: 0.0286 - val_accuracy: 0.9772 - val_loss: 0.0877\n",
      "→ Precisión de validación: 97.72% | Tiempo: 35.72 segundos\n"
     ]
    }
   ],
   "source": [
    "# Distintos tamaños de capa oculta que quieres probar\n",
    "neuronas_ocultas = [50, 100,300, 500]\n",
    "\n",
    "# Para guardar resultados\n",
    "resultados = []\n",
    "\n",
    "for n in neuronas_ocultas:\n",
    "    print(f\"\\nEntrenando modelo con {n} neuronas en la capa oculta...\")\n",
    "\n",
    "    # Definir modelo\n",
    "    model = keras.Sequential([\n",
    "        layers.Flatten(input_shape=(28, 28)),\n",
    "        layers.Dense(n, activation='relu'),\n",
    "        layers.Dense(10, activation='softmax')\n",
    "    ])\n",
    "\n",
    "    # Compilar\n",
    "    model.compile(optimizer='adam',\n",
    "                loss='sparse_categorical_crossentropy',\n",
    "                metrics=['accuracy'])\n",
    "\n",
    "    # Medir tiempo\n",
    "    start_time = time.time()\n",
    "\n",
    "    # Entrenar\n",
    "    history = model.fit(\n",
    "        x_train_new, y_train_new,\n",
    "        validation_data=(x_val, y_val),\n",
    "        epochs=5,\n",
    "        verbose=1\n",
    "    )\n",
    "\n",
    "    end_time = time.time()\n",
    "    tiempo = round(end_time - start_time, 2)\n",
    "    val_acc = round(history.history['val_accuracy'][-1] * 100, 2)\n",
    "\n",
    "    resultados.append((n, val_acc, tiempo))\n",
    "    print(f\"→ Precisión de validación: {val_acc}% | Tiempo: {tiempo} segundos\")"
   ]
  },
  {
   "cell_type": "markdown",
   "id": "2af080a5",
   "metadata": {},
   "source": [
    "La configuración que tuvo el mejor rendimiento fue el que contiene 300 neuronas en la capa oculta con un rendimiento de 97.82% y un tiempo de ejecución de 39.19 segundos."
   ]
  },
  {
   "cell_type": "markdown",
   "id": "226c8974",
   "metadata": {},
   "source": [
    "2. Modificación de la Profundidad de la Red"
   ]
  }
 ],
 "metadata": {
  "kernelspec": {
   "display_name": "Python 3",
   "language": "python",
   "name": "python3"
  },
  "language_info": {
   "codemirror_mode": {
    "name": "ipython",
    "version": 3
   },
   "file_extension": ".py",
   "mimetype": "text/x-python",
   "name": "python",
   "nbconvert_exporter": "python",
   "pygments_lexer": "ipython3",
   "version": "3.10.11"
  }
 },
 "nbformat": 4,
 "nbformat_minor": 5
}
